{
 "cells": [
  {
   "cell_type": "code",
   "execution_count": 13,
   "metadata": {},
   "outputs": [],
   "source": [
    "import pyvista as pv\n",
    "import numpy as np \n",
    "import os\n",
    "import pickle\n",
    "import seaborn as sns\n",
    "from pathlib import Path\n",
    "import matplotlib.pyplot as plt \n",
    "from scipy.spatial import distance\n",
    "from utils.file_manip.Matlab_to_array import load_faces, load_vertices\n",
    "import pyvista as pv \n",
    "from utils.mesh.Projection_onto_sphere import get_resampled_inner_surface\n",
    "from utils.file_manip.vtk_processing import vtk_mesh_to_array\n",
    "from utils.mesh import surface_preprocessing as sp\n",
    "from utils.mesh import spherical_harmonics as SH\n",
    "from utils.file_manip.Matlab_to_array import load_faces, load_vertices"
   ]
  },
  {
   "cell_type": "code",
   "execution_count": 15,
   "metadata": {},
   "outputs": [],
   "source": [
    "#Paramaters\n",
    "lmax = 120\n",
    "sigma=1e-7\n",
    "lambda_reg=1e-6\n",
    "pre_computed_folder=r\"C:\\Users\\wbou2\\Desktop\\meg_to_surface_ml\\src\\data\""
   ]
  },
  {
   "cell_type": "code",
   "execution_count": null,
   "metadata": {},
   "outputs": [],
   "source": [
    "#Utils \n",
    "def register(surface, output_file):\n",
    "    coords, tris = surface\n",
    "    if not output_file.endswith(\".npz\"):\n",
    "        output_file+=\".npz\"\n",
    "    np.savez(output_file, coords=coords, tris=tris)\n"
   ]
  },
  {
   "cell_type": "code",
   "execution_count": 16,
   "metadata": {},
   "outputs": [],
   "source": [
    "template_projection = pickle.load(open(r\"C:\\Users\\wbou2\\Desktop\\meg_to_surface_ml\\src\\data\\spherical_template.pkl\", 'rb'))\n",
    "\n"
   ]
  },
  {
   "cell_type": "code",
   "execution_count": 17,
   "metadata": {},
   "outputs": [],
   "source": [
    "Y = SH.compute_Y(template_projection['theta'], template_projection['phi'], lmax=120)\n"
   ]
  },
  {
   "cell_type": "code",
   "execution_count": 18,
   "metadata": {},
   "outputs": [],
   "source": [
    "Y_file=os.path.join(pre_computed_folder,\"Y.npz\")\n",
    "np.savez(Y_file, Y=Y)"
   ]
  },
  {
   "cell_type": "code",
   "execution_count": null,
   "metadata": {},
   "outputs": [
    {
     "name": "stdout",
     "output_type": "stream",
     "text": [
      "Processing subject: sub-CC110033\n",
      "Processing subject: sub-CC710494\n",
      "Processing subject: sub-CC710548\n",
      "Processing subject: sub-CC710551\n",
      "Processing subject: sub-CC710566\n",
      "Processing subject: sub-CC710591\n",
      "Processing subject: sub-CC710664\n",
      "Processing subject: sub-CC710679\n",
      "Processing subject: sub-CC710982\n",
      "Processing subject: sub-CC711035\n",
      "Processing subject: sub-CC711128\n",
      "Processing subject: sub-CC711158\n",
      "Processing subject: sub-CC711245\n",
      "Processing subject: sub-CC712027\n",
      "Processing subject: sub-CC720023\n",
      "Processing subject: sub-CC720071\n",
      "Processing subject: sub-CC720103\n",
      "Processing subject: sub-CC720188\n",
      "Processing subject: sub-CC720238\n",
      "Processing subject: sub-CC720290\n",
      "Processing subject: sub-CC720304\n",
      "Processing subject: sub-CC720329\n",
      "Processing subject: sub-CC720358\n",
      "Processing subject: sub-CC720400\n",
      "Processing subject: sub-CC720407\n",
      "Processing subject: sub-CC720511\n",
      "Processing subject: sub-CC720516\n",
      "Processing subject: sub-CC720622\n",
      "Processing subject: sub-CC720646\n",
      "Processing subject: sub-CC720670\n",
      "Processing subject: sub-CC720685\n",
      "Processing subject: sub-CC720941\n",
      "Processing subject: sub-CC720986\n",
      "Processing subject: sub-CC721107\n",
      "Processing subject: sub-CC721114\n",
      "Processing subject: sub-CC721224\n",
      "Processing subject: sub-CC721291\n",
      "Processing subject: sub-CC721292\n",
      "Processing subject: sub-CC721374\n",
      "Processing subject: sub-CC721377\n",
      "Processing subject: sub-CC721392\n",
      "Processing subject: sub-CC721434\n",
      "Processing subject: sub-CC721504\n",
      "Processing subject: sub-CC721519\n",
      "Processing subject: sub-CC721532\n",
      "Processing subject: sub-CC721585\n",
      "Processing subject: sub-CC721648\n",
      "Processing subject: sub-CC721707\n",
      "Processing subject: sub-CC721729\n",
      "Processing subject: sub-CC721891\n",
      "Processing subject: sub-CC721894\n",
      "Processing subject: sub-CC722536\n",
      "Processing subject: sub-CC722542\n",
      "Processing subject: sub-CC722651\n",
      "Processing subject: sub-CC722891\n",
      "Processing subject: sub-CC723395\n"
     ]
    }
   ],
   "source": [
    "#Registration of the resampled surface of CAMCAN cortical surfaces \n",
    "main_folder = r\"C:\\Users\\wbou2\\Desktop\\meg_to_surface_ml\\data\\Anatomy_data_CAM_CAN\"\n",
    "\n",
    "for folder in os.listdir(main_folder):\n",
    "    folder_path = os.path.join(main_folder, folder)\n",
    "    if os.path.isdir(folder_path):\n",
    "        print(f\"Processing subject: {folder}\")\n",
    "        try:\n",
    "            left_vertices_file = os.path.join(folder_path, \"lh_vertices.mat\")\n",
    "            left_faces_file = os.path.join(folder_path, \"lh_faces.mat\")\n",
    "            output_file = os.path.join(folder_path, \"lh_resampled.npz\")\n",
    "            if  \"lh_resampled.npz\" not in os.listdir(folder_path):\n",
    "                left_faces = load_faces(left_faces_file)\n",
    "                left_vertices = load_vertices(left_vertices_file)\n",
    "                resampled_surface = get_resampled_inner_surface((left_vertices, left_faces), 'lh')\n",
    "                register(resampled_surface, output_file)\n",
    "                print(f\"  Left hemisphere processed successfully\")\n",
    "            else:\n",
    "                \n",
    "            \n",
    "        except Exception as e:\n",
    "            print(f\"  Error processing left hemisphere: {str(e)}\")\n",
    "        \n",
    "        try:\n",
    "            right_vertices_file = os.path.join(folder_path, \"rh_vertices.mat\")\n",
    "            right_faces_file = os.path.join(folder_path, \"rh_faces.mat\")\n",
    "            output_file = os.path.join(folder_path, \"rh_resampled.npz\")\n",
    "            if \"rh_resampled.npz\" not in os.listdir(folder_path):\n",
    "                right_faces = load_faces(right_faces_file)\n",
    "                right_vertices = load_vertices(right_vertices_file)\n",
    "                resampled_surface = get_resampled_inner_surface((right_vertices, right_faces), 'rh')  # Changed to 'rh'\n",
    "                register(resampled_surface, output_file)\n",
    "                print(f\"  Right hemisphere processed successfully\")\n",
    "            \n",
    "        except Exception as e:\n",
    "            print(f\"  Error processing right hemisphere: {str(e)}\")\n",
    "\n"
   ]
  },
  {
   "cell_type": "code",
   "execution_count": 15,
   "metadata": {},
   "outputs": [
    {
     "name": "stdout",
     "output_type": "stream",
     "text": [
      "Processing right hemi of sub-CC721374\n",
      "Processing left hemi of sub-CC721377\n",
      "Processing right hemi of sub-CC721377\n",
      "Processing left hemi of sub-CC721392\n",
      "Processing right hemi of sub-CC721392\n",
      "Processing left hemi of sub-CC721434\n",
      "Processing right hemi of sub-CC721434\n",
      "Processing left hemi of sub-CC721504\n",
      "Processing right hemi of sub-CC721504\n",
      "Processing left hemi of sub-CC721519\n",
      "Processing right hemi of sub-CC721519\n",
      "Processing left hemi of sub-CC721532\n",
      "Processing right hemi of sub-CC721532\n",
      "Processing left hemi of sub-CC721585\n",
      "Processing right hemi of sub-CC721585\n",
      "Processing left hemi of sub-CC721648\n",
      "Processing right hemi of sub-CC721648\n",
      "Processing left hemi of sub-CC721707\n",
      "Processing right hemi of sub-CC721707\n",
      "Processing left hemi of sub-CC721729\n",
      "Processing right hemi of sub-CC721729\n",
      "Processing left hemi of sub-CC721891\n",
      "Processing right hemi of sub-CC721891\n",
      "Processing left hemi of sub-CC721894\n",
      "Processing right hemi of sub-CC721894\n",
      "Processing left hemi of sub-CC722536\n",
      "Processing right hemi of sub-CC722536\n",
      "Processing left hemi of sub-CC722542\n",
      "Processing right hemi of sub-CC722542\n",
      "Processing left hemi of sub-CC722651\n",
      "Processing right hemi of sub-CC722651\n",
      "Processing left hemi of sub-CC722891\n",
      "Processing right hemi of sub-CC722891\n",
      "Processing left hemi of sub-CC723395\n",
      "Processing right hemi of sub-CC723395\n"
     ]
    }
   ],
   "source": [
    "main_folder = r\"C:\\Users\\wbou2\\Desktop\\meg_to_surface_ml\\data\\Anatomy_data_CAM_CAN\"\n",
    "\n",
    "for folder in os.listdir(main_folder):\n",
    "    folder_path = os.path.join(main_folder, folder)\n",
    "    if os.path.isdir(folder_path):\n",
    "        coeffs_lh_path = os.path.join(folder_path, \"coeffs_lh.pkl\")\n",
    "        coeffs_rh_path = os.path.join(folder_path, \"coeffs_rh.pkl\")\n",
    "        \n",
    "        # Traitement hémisphère gauche\n",
    "        if not os.path.exists(coeffs_lh_path):\n",
    "            print(f\"Processing left hemi of {folder}\")\n",
    "            left_resampled_file = os.path.join(folder_path, \"lh_resampled.npz\")\n",
    "            coeffs_lh = sp.compute_coefficients(Y_lh, template_projection['sphere_coords'], \n",
    "                                        resampled_surface, lmax, lambda_reg)\n",
    "            with open(coeffs_lh_path, 'wb') as f:\n",
    "                pickle.dump(coeffs_lh, f)\n",
    "        \n",
    "        # Traitement hémisphère droit\n",
    "        if not os.path.exists(coeffs_rh_path):\n",
    "            print(f\"Processing right hemi of {folder}\")\n",
    "            right_resampled_file = os.path.join(folder_path, \"rh_resampled.npz\")\n",
    "            coeffs_rh = sp.compute_coefficients(Y_rh, template_projection['sphere_coords'], \n",
    "                                        resampled_surface, lmax, lambda_reg)\n",
    "            with open(coeffs_rh_path, 'wb') as f:\n",
    "                pickle.dump(coeffs_rh, f)\n",
    "\n",
    "\n"
   ]
  },
  {
   "cell_type": "code",
   "execution_count": null,
   "metadata": {},
   "outputs": [
    {
     "data": {
      "image/png": "[encoded data removed]",
      "text/plain": [
       "<Figure size 1200x500 with 2 Axes>"
      ]
     },
     "metadata": {},
     "output_type": "display_data"
    }
   ],
   "source": [
    "def analyze_reconstruction_error(coeffs, resampled_data, Y_lh, orders):\n",
    "    errors = []\n",
    "    variances_explained = []\n",
    "    \n",
    "    r_coords = resampled_data['coords']\n",
    "    r_coords_norm = (r_coords - r_coords.mean(axis=0)) / r_coords.std(axis=0)\n",
    "    \n",
    "    for l in orders:\n",
    "        # Reconstruction\n",
    "        reconstruction = SH.generate_surface(Y_lh, l, sigma, orders=coeffs['organized_coeffs'])\n",
    "        \n",
    "        # Normaliser la reconstruction\n",
    "        reconstruction_norm = (reconstruction - reconstruction.mean(axis=0)) / reconstruction.std(axis=0)\n",
    "        \n",
    "        # Erreur sur données normalisées\n",
    "        error = np.sqrt(np.mean(np.sum((r_coords_norm - reconstruction_norm)**2, axis=1)))\n",
    "        errors.append(error)\n",
    "        \n",
    "        # Variance expliquée sur données normalisées\n",
    "        var_total = np.var(r_coords_norm)\n",
    "        var_residual = np.var(r_coords_norm - reconstruction_norm)\n",
    "        var_explained = 1 - (var_residual / var_total)\n",
    "        variances_explained.append(var_explained)\n",
    "        \n",
    "    return errors, variances_explained\n",
    "\n",
    "orders = range(1,22, 2)\n",
    "all_errors = []\n",
    "all_variances = []\n",
    "\n",
    "for folder in os.listdir(main_folder)[:5]:\n",
    "    folder_path = os.path.join(main_folder, folder)\n",
    "    if os.path.isdir(folder_path):\n",
    "        with open(os.path.join(folder_path, \"coeffs_lh.pkl\"), 'rb') as f:\n",
    "            coeffs = pickle.load(f)\n",
    "        \n",
    "        resampled_data = np.load(os.path.join(folder_path, \"lh_resampled.npz\"))\n",
    "        errors, variances = analyze_reconstruction_error(coeffs, resampled_data, Y_lh, orders)\n",
    "        all_errors.append(errors)\n",
    "        all_variances.append(variances)\n",
    "\n",
    "plt.figure(figsize=(12, 5))\n",
    "\n",
    "plt.subplot(1, 2, 1)\n",
    "plt.plot(orders, np.mean(all_errors, axis=0), 'b-', label='Mean error')\n",
    "plt.fill_between(orders, \n",
    "                np.mean(all_errors, axis=0) - np.std(all_errors, axis=0),\n",
    "                np.mean(all_errors, axis=0) + np.std(all_errors, axis=0),\n",
    "                alpha=0.2)\n",
    "plt.xlabel('Order (l)')\n",
    "plt.ylabel('Normalized RMS Error')\n",
    "plt.title('Reconstruction Error vs Order')\n",
    "plt.grid(True)\n",
    "\n",
    "plt.subplot(1, 2, 2)\n",
    "plt.plot(orders, np.mean(all_variances, axis=0) * 100, 'r-', \n",
    "         label='Mean explained variance')\n",
    "plt.fill_between(orders,\n",
    "                np.mean(all_variances, axis=0) * 100 - np.std(all_variances, axis=0) * 100,\n",
    "                np.mean(all_variances, axis=0) * 100 + np.std(all_variances, axis=0) * 100,\n",
    "                alpha=0.2)\n",
    "plt.xlabel('Order (l)')\n",
    "plt.ylabel('Normalized Explained Variance (%)')\n",
    "plt.title('Explained Variance vs Order')\n",
    "plt.grid(True)\n",
    "\n",
    "plt.tight_layout()\n",
    "plt.show()"
   ]
  },
  {
   "cell_type": "code",
   "execution_count": null,
   "metadata": {},
   "outputs": [],
   "source": [
    "def change_representations(coeffs):\n",
    "    lmax=coeffs[\"lmax\"]\n",
    "    org_coeffs=coeffs['organized_coeffs']\n",
    "    a={}\n",
    "    b={}\n",
    "    for l in range(lmax+1):\n",
    "        a[l]=[coeffs[l][l].real()]\n",
    "        b[l]=[coeffs[l][l].imag()]\n",
    "        for m in range(0,l):\n",
    "            a[l].append(coeffs[l][m].real()+coeffs[l][2*l-m].real())\n",
    "            b[l].append(coeffs[l][m].imag()+coeffs[l][2*l-m].imag())\n",
    "    return a,b  "
   ]
  },
  {
   "cell_type": "code",
   "execution_count": 4,
   "metadata": {},
   "outputs": [],
   "source": [
    "#Analysis \n",
    "\n",
    "def spectral_power(a,b,l):\n",
    "    return np.sum(a[l]**2+b[l]**2)"
   ]
  },
  {
   "cell_type": "code",
   "execution_count": null,
   "metadata": {},
   "outputs": [
    {
     "data": {
      "text/plain": [
       "18"
      ]
     },
     "execution_count": 10,
     "metadata": {},
     "output_type": "execute_result"
    }
   ],
   "source": [
    "a=np.array([[1,2]], dtype=np.float64)\n",
    "b=np.array([[2,3]], dtype=np.float64)"
   ]
  },
  {
   "cell_type": "code",
   "execution_count": null,
   "metadata": {},
   "outputs": [],
   "source": [
    "from utils.file_manip.vtk_processing import vtk_mesh_to_array\n",
    "sphere_file=r\"C:\\Users\\wbou2\\Documents\\sphere_40962_rotated_1.vtk\"\n",
    "sphere_coords, sphere_tris=vtk_mesh_to_array(sphere_file) "
   ]
  },
  {
   "cell_type": "code",
   "execution_count": 24,
   "metadata": {},
   "outputs": [
    {
     "name": "stdout",
     "output_type": "stream",
     "text": [
      "[ 8.631635e-06  2.113609e-06 -5.375506e-07]\n"
     ]
    }
   ],
   "source": [
    "print(np.mean(sphere_coords, axis=0))"
   ]
  },
  {
   "cell_type": "code",
   "execution_count": 25,
   "metadata": {},
   "outputs": [],
   "source": [
    "resampled_surface = np.load(r\"C:\\Users\\wbou2\\Desktop\\meg_to_surface_ml\\data\\Anatomy_data_CAM_CAN\\sub-CC712027\\lh_resampled.npz\")\n",
    "r_coords, r_tris = resampled_surface[\"coords\"], resampled_surface[\"tris\"]"
   ]
  },
  {
   "cell_type": "code",
   "execution_count": 27,
   "metadata": {},
   "outputs": [
    {
     "name": "stdout",
     "output_type": "stream",
     "text": [
      "[-0.00536397  0.0307067   0.06372664]\n",
      "[-3.76791832e-17 -1.73586141e-16  5.77935564e-16]\n"
     ]
    }
   ],
   "source": [
    "print(np.mean(r_coords, axis=0))\n",
    "r_coords1=r_coords-np.mean(r_coords, axis=0)\n",
    "print(np.mean(r_coords1, axis=0))"
   ]
  },
  {
   "cell_type": "code",
   "execution_count": null,
   "metadata": {},
   "outputs": [],
   "source": [
    "distances = np.sqrt((np.sum(sphere_coords**2, axis=1)))"
   ]
  },
  {
   "cell_type": "code",
   "execution_count": 18,
   "metadata": {},
   "outputs": [
    {
     "data": {
      "text/plain": [
       "array([10000.   , 10000.753,  9999.393, ...,  9999.514, 10000.688,\n",
       "        9999.841], dtype=float32)"
      ]
     },
     "execution_count": 18,
     "metadata": {},
     "output_type": "execute_result"
    }
   ],
   "source": [
    "distances"
   ]
  }
 ],
 "metadata": {
  "kernelspec": {
   "display_name": "Python 3",
   "language": "python",
   "name": "python3"
  },
  "language_info": {
   "codemirror_mode": {
    "name": "ipython",
    "version": 3
   },
   "file_extension": ".py",
   "mimetype": "text/x-python",
   "name": "python",
   "nbconvert_exporter": "python",
   "pygments_lexer": "ipython3",
   "version": "3.12.3"
  }
 },
 "nbformat": 4,
 "nbformat_minor": 2
}
